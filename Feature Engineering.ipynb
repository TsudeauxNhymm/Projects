{
 "cells": [
  {
   "cell_type": "markdown",
   "metadata": {},
   "source": [
    "I decided to add n-grams of the text as features.  I chose n-grams of lengths 2-5, and looked at the most common ones for each decade.  Some of the decades didn't have sufficient n-grams for them to be statistically significant, so I won't use that feature for them, but many of the other decades had a few I could use.\n",
    "\n",
    "The reason for choosing to make n-grams was that they allow the program to look at phrases that were common, and may be important in determining the age of a document.\n",
    "\n",
    "Below is the code that I used to make the n-grams"
   ]
  },
  {
   "cell_type": "code",
   "execution_count": null,
   "metadata": {},
   "outputs": [],
   "source": [
    "import nltk\n",
    "from glob import glob\n",
    "import os\n",
    "\n",
    "class cd:\n",
    "    \"\"\"Context manager for changing the current working directory\"\"\"\n",
    "    def __init__(self, newPath):\n",
    "        self.newPath = os.path.expanduser(newPath)\n",
    "\n",
    "    def __enter__(self):\n",
    "        self.savedPath = os.getcwd()\n",
    "        os.chdir(self.newPath)\n",
    "\n",
    "    def __exit__(self, etype, value, traceback):\n",
    "        os.chdir(self.savedPath)\n",
    "import nltk.data\n",
    "import re\n",
    "from nltk.util import ngrams\n",
    "from nltk.corpus import PlaintextCorpusReader\n",
    "#get the list of directories\n",
    "dirs = glob('*/')\n",
    "punctuation = [';',',','.','','{','}','[',']','-']\n",
    "#for everything in the list\n",
    "names=dict()\n",
    "for d in dirs:\n",
    "    #make each of the directories a temporary corpus\n",
    "    #also make a list of all the n-grams for 2<=n<=5, for common phrasings\n",
    "    name = d[:-1]\n",
    "    words = [dict() for i in range(2,5)]\n",
    "    with cd(d):\n",
    "        corpus = PlaintextCorpusReader('./','.*')\n",
    "        tokens =[token for token in corpus.words() if token not in punctuation]\n",
    "        for i in range(len(words)):\n",
    "            grams = list(ngrams(tokens,i+2))\n",
    "            for j in grams:\n",
    "                if j in words[i]:\n",
    "                    words[i][j]+=1\n",
    "                else:\n",
    "                    words[i][j]=1\n",
    "        stuff = []\n",
    "        for i in range(len(words)):\n",
    "            for j in words[i]:\n",
    "                if words[i][j] >150/(i+2):\n",
    "                    stuff.append(j)\n",
    "    names[name]=stuff\n",
    "with open('decadesstats.txt','w+') as outfile:\n",
    "    outfile.write(repr(names))"
   ]
  }
 ],
 "metadata": {
  "kernelspec": {
   "display_name": "Python 3",
   "language": "python",
   "name": "python3"
  },
  "language_info": {
   "codemirror_mode": {
    "name": "ipython",
    "version": 3
   },
   "file_extension": ".py",
   "mimetype": "text/x-python",
   "name": "python",
   "nbconvert_exporter": "python",
   "pygments_lexer": "ipython3",
   "version": "3.7.4"
  }
 },
 "nbformat": 4,
 "nbformat_minor": 2
}
